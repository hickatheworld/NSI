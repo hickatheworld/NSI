{
 "cells": [
  {
   "cell_type": "markdown",
   "source": [
    "# Lesson: Stack Data Structure"
   ],
   "metadata": {}
  },
  {
   "cell_type": "code",
   "execution_count": 61,
   "source": [
    "# Initial stack\r\n",
    "from pile import Pile\r\n",
    "p = Pile ()\r\n",
    "p.empile('n')\r\n",
    "p.empile('s')\r\n",
    "p.empile('i')"
   ],
   "outputs": [],
   "metadata": {}
  },
  {
   "cell_type": "markdown",
   "source": [
    "## Exercise 1\n",
    "*Some initiation about Stacks*"
   ],
   "metadata": {}
  },
  {
   "cell_type": "markdown",
   "source": [
    "## Exercise 2\n",
    "Write an `echange(p)` function which swaps the two highest elements of the stack, unless it contains less than 2 elements."
   ],
   "metadata": {}
  },
  {
   "cell_type": "code",
   "execution_count": 62,
   "source": [
    "def echange(p):\r\n",
    "    assert p.taille() >= 2\r\n",
    "    x = p.depile()\r\n",
    "    y = p.depile()\r\n",
    "    p.empile(x)\r\n",
    "    p.empile(y)"
   ],
   "outputs": [],
   "metadata": {}
  },
  {
   "cell_type": "code",
   "execution_count": 63,
   "source": [
    "print('Before swap:\\n' + str(p))\r\n",
    "echange(p)\r\n",
    "print('After swap:\\n' + str(p))"
   ],
   "outputs": [
    {
     "output_type": "stream",
     "name": "stdout",
     "text": [
      "Before swap:\n",
      "-----\n",
      "| i |\n",
      "| s |\n",
      "| n |\n",
      "-----\n",
      "After swap:\n",
      "-----\n",
      "| s |\n",
      "| i |\n",
      "| n |\n",
      "-----\n"
     ]
    }
   ],
   "metadata": {}
  },
  {
   "cell_type": "markdown",
   "source": [
    "## Exercise 3\n",
    "Write an `inverse(p)` function which returns a new stack made of p's elements but in reversed order."
   ],
   "metadata": {}
  },
  {
   "cell_type": "code",
   "execution_count": 64,
   "source": [
    "def inverse(p):\r\n",
    "    assert p.taille() >= 2\r\n",
    "    p1 = Pile()\r\n",
    "    p2 = Pile()\r\n",
    "    while not p.est_vide():\r\n",
    "        x =p.depile()\r\n",
    "        p1.empile(x)\r\n",
    "        p2.empile(x)\r\n",
    "    while not p2.est_vide():\r\n",
    "        p.empile(p2.depile())\r\n",
    "    return p1"
   ],
   "outputs": [],
   "metadata": {}
  },
  {
   "cell_type": "code",
   "execution_count": 65,
   "source": [
    "p1 = inverse(p)\r\n",
    "print('p:\\n' + str(p))\r\n",
    "print('Reversed:\\n' + str(p1))"
   ],
   "outputs": [
    {
     "output_type": "stream",
     "name": "stdout",
     "text": [
      "p:\n",
      "-----\n",
      "| s |\n",
      "| i |\n",
      "| n |\n",
      "-----\n",
      "Reversed:\n",
      "-----\n",
      "| n |\n",
      "| i |\n",
      "| s |\n",
      "-----\n"
     ]
    }
   ],
   "metadata": {}
  },
  {
   "cell_type": "markdown",
   "source": [
    "## Exercise 4\n",
    "Write a `copie(p)` function which returns a clone of p."
   ],
   "metadata": {}
  },
  {
   "cell_type": "code",
   "execution_count": 66,
   "source": [
    "def copie(p):\r\n",
    "    return inverse(inverse(p))"
   ],
   "outputs": [],
   "metadata": {}
  },
  {
   "cell_type": "code",
   "execution_count": 67,
   "source": [
    "p1 = copie(p)\r\n",
    "print('p:\\n' + str(p))\r\n",
    "print('Clone:\\n' + str(p1))"
   ],
   "outputs": [
    {
     "output_type": "stream",
     "name": "stdout",
     "text": [
      "p:\n",
      "-----\n",
      "| s |\n",
      "| i |\n",
      "| n |\n",
      "-----\n",
      "Clone:\n",
      "-----\n",
      "| s |\n",
      "| i |\n",
      "| n |\n",
      "-----\n"
     ]
    }
   ],
   "metadata": {}
  },
  {
   "cell_type": "markdown",
   "source": [
    "## Exercise 5\n",
    "### 1.\n",
    "Write a `fond(p)` function which deletes and returns the lowest element from the stack."
   ],
   "metadata": {}
  },
  {
   "cell_type": "code",
   "execution_count": 68,
   "source": [
    "def fond(p):\r\n",
    "    p1 = Pile()\r\n",
    "    while p.taille() > 1:\r\n",
    "        p1.empile(p.depile())\r\n",
    "    f = p.depile()\r\n",
    "    while not p1.est_vide():\r\n",
    "        p.empile(p1.depile())\r\n",
    "    return f"
   ],
   "outputs": [],
   "metadata": {}
  },
  {
   "cell_type": "code",
   "execution_count": 69,
   "source": [
    "print('p:\\n' + str(p))\r\n",
    "f = fond(p)\r\n",
    "print('Altered:\\n' + str(p))\r\n",
    "print('Lowest:', f)"
   ],
   "outputs": [
    {
     "output_type": "stream",
     "name": "stdout",
     "text": [
      "p:\n",
      "-----\n",
      "| s |\n",
      "| i |\n",
      "| n |\n",
      "-----\n",
      "Altered:\n",
      "-----\n",
      "| s |\n",
      "| i |\n",
      "-----\n",
      "Lowest: n\n"
     ]
    }
   ],
   "metadata": {}
  },
  {
   "cell_type": "markdown",
   "source": [
    "### 2.\n",
    "Write a `rotation(p)` function which swaps the highest and lowest elements from the stack."
   ],
   "metadata": {}
  },
  {
   "cell_type": "code",
   "execution_count": 70,
   "source": [
    "def rotation(p):\r\n",
    "    p1 = Pile()\r\n",
    "    h = p.depile()\r\n",
    "    while not p.est_vide():\r\n",
    "        p1.empile(p.depile())\r\n",
    "    p.empile(h)\r\n",
    "    while not p1.est_vide():\r\n",
    "        p.empile(p1.depile())"
   ],
   "outputs": [],
   "metadata": {}
  },
  {
   "cell_type": "code",
   "execution_count": 71,
   "source": [
    "print('Before rotation:\\n' + str(p))\r\n",
    "rotation(p)\r\n",
    "print('After rotation:\\n' + str(p))"
   ],
   "outputs": [
    {
     "output_type": "stream",
     "name": "stdout",
     "text": [
      "Before rotation:\n",
      "-----\n",
      "| s |\n",
      "| i |\n",
      "-----\n",
      "After rotation:\n",
      "-----\n",
      "| i |\n",
      "| s |\n",
      "-----\n"
     ]
    }
   ],
   "metadata": {}
  },
  {
   "cell_type": "markdown",
   "source": [
    "## Exercise 6\n",
    "Write a function `test_parenthesage(s)` which returns whether all the brackets in the string match, using a stack."
   ],
   "metadata": {}
  },
  {
   "cell_type": "code",
   "execution_count": 72,
   "source": [
    "def test_parenthesage(s):\r\n",
    "    ouvrants = ('(', '[', '{')\r\n",
    "    fermants = (')', ']', '}')\r\n",
    "    fermants_attendus = Pile()\r\n",
    "    for c in s:\r\n",
    "        if c in ouvrants:\r\n",
    "            fermants_attendus.empile(fermants[ouvrants.index(c)])\r\n",
    "        if c in fermants:\r\n",
    "            if fermants_attendus.est_vide() or c != fermants_attendus.depile():\r\n",
    "                return False\r\n",
    "    return fermants_attendus.est_vide()"
   ],
   "outputs": [],
   "metadata": {}
  },
  {
   "cell_type": "code",
   "execution_count": 73,
   "source": [
    "\r\n",
    "assert test_parenthesage ('(a)(b)(((c)(d)))') == True, 'Test 1 failed.'\r\n",
    "assert test_parenthesage ('([b]){((c))[d]}') == True, 'Test 2 failed.'\r\n",
    "assert test_parenthesage ('(') == False, 'Test 3 failed.'\r\n",
    "assert test_parenthesage ('(a))') == False, 'Test 4 failed.'\r\n",
    "assert test_parenthesage ('((a))}') == False, 'Test 5 failed.'\r\n",
    "assert test_parenthesage ('[[a]') == False, 'Test 6 failed.'\r\n",
    "assert test_parenthesage ('[(a])') == False, 'Test 7 failed.'\r\n",
    "assert test_parenthesage ('{((a)})') == False, 'Test 8 failed.'\r\n",
    "print('All tests passed.')\r\n"
   ],
   "outputs": [
    {
     "output_type": "stream",
     "name": "stdout",
     "text": [
      "All tests passed.\n"
     ]
    }
   ],
   "metadata": {}
  }
 ],
 "metadata": {
  "orig_nbformat": 4,
  "language_info": {
   "name": "python",
   "version": "3.9.6",
   "mimetype": "text/x-python",
   "codemirror_mode": {
    "name": "ipython",
    "version": 3
   },
   "pygments_lexer": "ipython3",
   "nbconvert_exporter": "python",
   "file_extension": ".py"
  },
  "kernelspec": {
   "name": "python3",
   "display_name": "Python 3.9.6 64-bit"
  },
  "interpreter": {
   "hash": "98664a8c39c8f2b8b6bab828a93fc29cea6fbb9d8d01c7544d27b7d28323b637"
  }
 },
 "nbformat": 4,
 "nbformat_minor": 2
}