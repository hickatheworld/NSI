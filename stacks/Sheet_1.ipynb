{
 "cells": [
  {
   "cell_type": "markdown",
   "source": [
    "# Lesson: Stack Data Structure"
   ],
   "metadata": {}
  },
  {
   "cell_type": "code",
   "execution_count": 61,
   "source": [
    "# Initial stack\n",
    "from pile import Pile\n",
    "p = Pile ()\n",
    "p.empile('n')\n",
    "p.empile('s')\n",
    "p.empile('i')"
   ],
   "outputs": [],
   "metadata": {}
  },
  {
   "cell_type": "markdown",
   "source": [
    "## Exercise 1\n",
    "*Some initiation about Stacks*"
   ],
   "metadata": {}
  },
  {
   "cell_type": "markdown",
   "source": [
    "## Exercise 2\n",
    "Write an `echange(p)` function which swaps the two highest elements of the stack, unless it contains less than 2 elements."
   ],
   "metadata": {}
  },
  {
   "cell_type": "code",
   "execution_count": 62,
   "source": [
    "def echange(p):\n",
    "    assert p.taille() >= 2\n",
    "    x = p.depile()\n",
    "    y = p.depile()\n",
    "    p.empile(x)\n",
    "    p.empile(y)"
   ],
   "outputs": [],
   "metadata": {}
  },
  {
   "cell_type": "code",
   "execution_count": 63,
   "source": [
    "print('Before swap:\\n' + str(p))\n",
    "echange(p)\n",
    "print('After swap:\\n' + str(p))"
   ],
   "outputs": [
    {
     "output_type": "stream",
     "name": "stdout",
     "text": [
      "Before swap:\n",
      "-----\n",
      "| i |\n",
      "| s |\n",
      "| n |\n",
      "-----\n",
      "After swap:\n",
      "-----\n",
      "| s |\n",
      "| i |\n",
      "| n |\n",
      "-----\n"
     ]
    }
   ],
   "metadata": {}
  },
  {
   "cell_type": "markdown",
   "source": [
    "## Exercise 3\n",
    "Write an `inverse(p)` function which returns a new stack made of p's elements but in reversed order."
   ],
   "metadata": {}
  },
  {
   "cell_type": "code",
   "execution_count": 64,
   "source": [
    "def inverse(p):\n",
    "    assert p.taille() >= 2\n",
    "    p1 = Pile()\n",
    "    p2 = Pile()\n",
    "    while not p.est_vide():\n",
    "        x =p.depile()\n",
    "        p1.empile(x)\n",
    "        p2.empile(x)\n",
    "    while not p2.est_vide():\n",
    "        p.empile(p2.depile())\n",
    "    return p1"
   ],
   "outputs": [],
   "metadata": {}
  },
  {
   "cell_type": "code",
   "execution_count": 65,
   "source": [
    "p1 = inverse(p)\n",
    "print('p:\\n' + str(p))\n",
    "print('Reversed:\\n' + str(p1))"
   ],
   "outputs": [
    {
     "output_type": "stream",
     "name": "stdout",
     "text": [
      "p:\n",
      "-----\n",
      "| s |\n",
      "| i |\n",
      "| n |\n",
      "-----\n",
      "Reversed:\n",
      "-----\n",
      "| n |\n",
      "| i |\n",
      "| s |\n",
      "-----\n"
     ]
    }
   ],
   "metadata": {}
  },
  {
   "cell_type": "markdown",
   "source": [
    "## Exercise 4\n",
    "Write a `copie(p)` function which returns a clone of p."
   ],
   "metadata": {}
  },
  {
   "cell_type": "code",
   "execution_count": 66,
   "source": [
    "def copie(p):\n",
    "    return inverse(inverse(p))"
   ],
   "outputs": [],
   "metadata": {}
  },
  {
   "cell_type": "code",
   "execution_count": 67,
   "source": [
    "p1 = copie(p)\n",
    "print('p:\\n' + str(p))\n",
    "print('Clone:\\n' + str(p1))"
   ],
   "outputs": [
    {
     "output_type": "stream",
     "name": "stdout",
     "text": [
      "p:\n",
      "-----\n",
      "| s |\n",
      "| i |\n",
      "| n |\n",
      "-----\n",
      "Clone:\n",
      "-----\n",
      "| s |\n",
      "| i |\n",
      "| n |\n",
      "-----\n"
     ]
    }
   ],
   "metadata": {}
  },
  {
   "cell_type": "markdown",
   "source": [
    "## Exercise 5\n",
    "### 1.\n",
    "Write a `fond(p)` function which deletes and returns the lowest element from the stack."
   ],
   "metadata": {}
  },
  {
   "cell_type": "code",
   "execution_count": 68,
   "source": [
    "def fond(p):\n",
    "    p1 = Pile()\n",
    "    while p.taille() > 1:\n",
    "        p1.empile(p.depile())\n",
    "    f = p.depile()\n",
    "    while not p1.est_vide():\n",
    "        p.empile(p1.depile())\n",
    "    return f"
   ],
   "outputs": [],
   "metadata": {}
  },
  {
   "cell_type": "code",
   "execution_count": 69,
   "source": [
    "print('p:\\n' + str(p))\n",
    "f = fond(p)\n",
    "print('Altered:\\n' + str(p))\n",
    "print('Lowest:', f)"
   ],
   "outputs": [
    {
     "output_type": "stream",
     "name": "stdout",
     "text": [
      "p:\n",
      "-----\n",
      "| s |\n",
      "| i |\n",
      "| n |\n",
      "-----\n",
      "Altered:\n",
      "-----\n",
      "| s |\n",
      "| i |\n",
      "-----\n",
      "Lowest: n\n"
     ]
    }
   ],
   "metadata": {}
  },
  {
   "cell_type": "markdown",
   "source": [
    "### 2.\n",
    "Write a `rotation(p)` function which swaps the highest and lowest elements from the stack."
   ],
   "metadata": {}
  },
  {
   "cell_type": "code",
   "execution_count": 70,
   "source": [
    "def rotation(p):\n",
    "    p1 = Pile()\n",
    "    h = p.depile()\n",
    "    while not p.est_vide():\n",
    "        p1.empile(p.depile())\n",
    "    p.empile(h)\n",
    "    while not p1.est_vide():\n",
    "        p.empile(p1.depile())"
   ],
   "outputs": [],
   "metadata": {}
  },
  {
   "cell_type": "code",
   "execution_count": 71,
   "source": [
    "print('Before rotation:\\n' + str(p))\n",
    "rotation(p)\n",
    "print('After rotation:\\n' + str(p))"
   ],
   "outputs": [
    {
     "output_type": "stream",
     "name": "stdout",
     "text": [
      "Before rotation:\n",
      "-----\n",
      "| s |\n",
      "| i |\n",
      "-----\n",
      "After rotation:\n",
      "-----\n",
      "| i |\n",
      "| s |\n",
      "-----\n"
     ]
    }
   ],
   "metadata": {}
  },
  {
   "cell_type": "markdown",
   "source": [
    "## Exercise 6\n",
    "Write a function `test_parenthesage(s)` which returns whether all the brackets in the string match, using a stack."
   ],
   "metadata": {}
  },
  {
   "cell_type": "code",
   "execution_count": 72,
   "source": [
    "def test_parenthesage(s):\n",
    "    fermants = (')', ']', '}')\n",
    "    fermants_attendus = Pile()\n",
    "    for c in s:\n",
    "        if c == '(':\n",
    "            fermants_attendus.empile(')')\n",
    "        if c == '{':\n",
    "            fermants_attendus.empile('}')\n",
    "        if c == '[':\n",
    "            fermants_attendus.empile(']')\n",
    "        if c in fermants:\n",
    "            if fermants_attendus.est_vide() or c != fermants_attendus.depile():\n",
    "                return False\n",
    "    return fermants_attendus.est_vide()"
   ],
   "outputs": [],
   "metadata": {}
  },
  {
   "cell_type": "code",
   "execution_count": 73,
   "source": [
    "\n",
    "assert test_parenthesage ('(a)(b)(((c)(d)))') == True, 'Test 1 failed.'\n",
    "assert test_parenthesage ('([b]){((c))[d]}') == True, 'Test 2 failed.'\n",
    "assert test_parenthesage ('(') == False, 'Test 3 failed.'\n",
    "assert test_parenthesage ('(a))') == False, 'Test 4 failed.'\n",
    "assert test_parenthesage ('((a))}') == False, 'Test 5 failed.'\n",
    "assert test_parenthesage ('[[a]') == False, 'Test 6 failed.'\n",
    "assert test_parenthesage ('[(a])') == False, 'Test 7 failed.'\n",
    "assert test_parenthesage ('{((a)})') == False, 'Test 8 failed.'\n",
    "print('All tests passed.')\n"
   ],
   "outputs": [
    {
     "output_type": "stream",
     "name": "stdout",
     "text": [
      "All tests passed.\n"
     ]
    }
   ],
   "metadata": {}
  }
 ],
 "metadata": {
  "orig_nbformat": 4,
  "language_info": {
   "name": "python",
   "version": "3.9.6",
   "mimetype": "text/x-python",
   "codemirror_mode": {
    "name": "ipython",
    "version": 3
   },
   "pygments_lexer": "ipython3",
   "nbconvert_exporter": "python",
   "file_extension": ".py"
  },
  "kernelspec": {
   "name": "python3",
   "display_name": "Python 3.9.6 64-bit"
  },
  "interpreter": {
   "hash": "98664a8c39c8f2b8b6bab828a93fc29cea6fbb9d8d01c7544d27b7d28323b637"
  }
 },
 "nbformat": 4,
 "nbformat_minor": 2
}