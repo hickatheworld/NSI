{
 "cells": [
  {
   "cell_type": "markdown",
   "source": [
    "# Lesson: Stack Data Structure"
   ],
   "metadata": {}
  },
  {
   "cell_type": "code",
   "execution_count": 2,
   "source": [
    "# Initial stack\n",
    "from pile import Pile\n",
    "p = Pile ()\n",
    "p.empile('n')\n",
    "p.empile('s')\n",
    "p.empile('i')"
   ],
   "outputs": [],
   "metadata": {}
  },
  {
   "cell_type": "markdown",
   "source": [
    "## Exercise 1\n",
    "*Some initiation about Stacks*"
   ],
   "metadata": {}
  },
  {
   "cell_type": "markdown",
   "source": [
    "## Exercise 2\n",
    "Write an `echange(p)` function which swaps the two highest elements of the stack, unless it contains less than 2 elements."
   ],
   "metadata": {}
  },
  {
   "cell_type": "code",
   "execution_count": 3,
   "source": [
    "def echange(p):\n",
    "    assert p.taille() >= 2\n",
    "    x = p.depile()\n",
    "    y = p.depile()\n",
    "    p.empile(x)\n",
    "    p.empile(y)"
   ],
   "outputs": [],
   "metadata": {}
  },
  {
   "cell_type": "code",
   "execution_count": 4,
   "source": [
    "print('Before swap:\\n' + str(p))\n",
    "echange(p)\n",
    "print('After swap:\\n' + str(p))"
   ],
   "outputs": [
    {
     "output_type": "stream",
     "name": "stdout",
     "text": [
      "Before swap:\n",
      "-----\n",
      "| i |\n",
      "| s |\n",
      "| n |\n",
      "-----\n",
      "After swap:\n",
      "-----\n",
      "| s |\n",
      "| i |\n",
      "| n |\n",
      "-----\n"
     ]
    }
   ],
   "metadata": {}
  },
  {
   "cell_type": "markdown",
   "source": [
    "## Exercise 3\n",
    "Write an `inverse(p)` function which returns a new stack made of p's elements but in reversed order."
   ],
   "metadata": {}
  },
  {
   "cell_type": "code",
   "execution_count": 5,
   "source": [
    "def inverse(p):\n",
    "    assert p.taille() >= 2\n",
    "    p1 = Pile()\n",
    "    p2 = Pile()\n",
    "    while not p.est_vide():\n",
    "        x =p.depile()\n",
    "        p1.empile(x)\n",
    "        p2.empile(x)\n",
    "    while not p2.est_vide():\n",
    "        p.empile(p2.depile())\n",
    "    return p1"
   ],
   "outputs": [],
   "metadata": {}
  },
  {
   "cell_type": "code",
   "execution_count": 6,
   "source": [
    "p1 = inverse(p)\n",
    "print('p:\\n' + str(p))\n",
    "print('Reversed:\\n' + str(p1))"
   ],
   "outputs": [
    {
     "output_type": "stream",
     "name": "stdout",
     "text": [
      "p:\n",
      "-----\n",
      "| s |\n",
      "| i |\n",
      "| n |\n",
      "-----\n",
      "Reversed:\n",
      "-----\n",
      "| n |\n",
      "| i |\n",
      "| s |\n",
      "-----\n"
     ]
    }
   ],
   "metadata": {}
  },
  {
   "cell_type": "markdown",
   "source": [
    "## Exercise 4\n",
    "Write a `copie(p)` function which returns a clone of p."
   ],
   "metadata": {}
  },
  {
   "cell_type": "code",
   "execution_count": 7,
   "source": [
    "def copie(p):\n",
    "    return inverse(inverse(p))"
   ],
   "outputs": [],
   "metadata": {}
  },
  {
   "cell_type": "code",
   "execution_count": 8,
   "source": [
    "p1 = copie(p)\n",
    "print('p:\\n' + str(p))\n",
    "print('Clone:\\n' + str(p1))"
   ],
   "outputs": [
    {
     "output_type": "stream",
     "name": "stdout",
     "text": [
      "p:\n",
      "-----\n",
      "| s |\n",
      "| i |\n",
      "| n |\n",
      "-----\n",
      "Clone:\n",
      "-----\n",
      "| s |\n",
      "| i |\n",
      "| n |\n",
      "-----\n"
     ]
    }
   ],
   "metadata": {}
  },
  {
   "cell_type": "markdown",
   "source": [
    "## Exercise 5\n",
    "### 1.\n",
    "Write a `fond(p)` function which deletes and returns the lowest element from the stack."
   ],
   "metadata": {}
  },
  {
   "cell_type": "code",
   "execution_count": 9,
   "source": [
    "def fond(p):\n",
    "    p1 = Pile()\n",
    "    while p.taille() > 1:\n",
    "        p1.empile(p.depile())\n",
    "    f = p.depile()\n",
    "    while not p1.est_vide():\n",
    "        p.empile(p1.depile())\n",
    "    return f"
   ],
   "outputs": [],
   "metadata": {}
  },
  {
   "cell_type": "code",
   "execution_count": 10,
   "source": [
    "print('p:\\n' + str(p))\n",
    "f = fond(p)\n",
    "print('Altered:\\n' + str(p))\n",
    "print('Lowest:', f)"
   ],
   "outputs": [
    {
     "output_type": "stream",
     "name": "stdout",
     "text": [
      "p:\n",
      "-----\n",
      "| s |\n",
      "| i |\n",
      "| n |\n",
      "-----\n",
      "Altered:\n",
      "-----\n",
      "| s |\n",
      "| i |\n",
      "-----\n",
      "Lowest: n\n"
     ]
    }
   ],
   "metadata": {}
  },
  {
   "cell_type": "markdown",
   "source": [
    "### 2.\n",
    "Write a `rotation(p)` function which swaps the highest and lowest elements from the stack."
   ],
   "metadata": {}
  },
  {
   "cell_type": "code",
   "execution_count": 11,
   "source": [
    "def rotation(p):\n",
    "    p1 = Pile()\n",
    "    h = p.depile()\n",
    "    while not p.est_vide():\n",
    "        p1.empile(p.depile())\n",
    "    p.empile(h)\n",
    "    while not p1.est_vide():\n",
    "        p.empile(p1.depile())"
   ],
   "outputs": [],
   "metadata": {}
  },
  {
   "cell_type": "code",
   "execution_count": 12,
   "source": [
    "print('Before rotation:\\n' + str(p))\n",
    "rotation(p)\n",
    "print('After rotation:\\n' + str(p))"
   ],
   "outputs": [
    {
     "output_type": "stream",
     "name": "stdout",
     "text": [
      "Before rotation:\n",
      "-----\n",
      "| s |\n",
      "| i |\n",
      "-----\n",
      "After rotation:\n",
      "-----\n",
      "| i |\n",
      "| s |\n",
      "-----\n"
     ]
    }
   ],
   "metadata": {}
  },
  {
   "cell_type": "markdown",
   "source": [
    "## Exercise 6\n",
    "Write a function `test_parenthesage(s)` which returns whether all the brackets in the string match, using a stack."
   ],
   "metadata": {}
  },
  {
   "cell_type": "code",
   "execution_count": 13,
   "source": [
    "def test_parenthesage(s):\n",
    "    ouvrants = ('(', '[', '{')\n",
    "    fermants = (')', ']', '}')\n",
    "    fermants_attendus = Pile()\n",
    "    for c in s:\n",
    "        if c in ouvrants:\n",
    "            fermants_attendus.empile(fermants[ouvrants.index(c)])\n",
    "        if c in fermants:\n",
    "            if fermants_attendus.est_vide() or c != fermants_attendus.depile():\n",
    "                return False\n",
    "    return fermants_attendus.est_vide()"
   ],
   "outputs": [],
   "metadata": {}
  },
  {
   "cell_type": "code",
   "execution_count": 14,
   "source": [
    "\n",
    "assert test_parenthesage ('(a)(b)(((c)(d)))') == True, 'Test 1 failed.'\n",
    "assert test_parenthesage ('([b]){((c))[d]}') == True, 'Test 2 failed.'\n",
    "assert test_parenthesage ('(') == False, 'Test 3 failed.'\n",
    "assert test_parenthesage ('(a))') == False, 'Test 4 failed.'\n",
    "assert test_parenthesage ('((a))}') == False, 'Test 5 failed.'\n",
    "assert test_parenthesage ('[[a]') == False, 'Test 6 failed.'\n",
    "assert test_parenthesage ('[(a])') == False, 'Test 7 failed.'\n",
    "assert test_parenthesage ('{((a)})') == False, 'Test 8 failed.'\n",
    "print('All tests passed.')\n"
   ],
   "outputs": [
    {
     "output_type": "stream",
     "name": "stdout",
     "text": [
      "All tests passed.\n"
     ]
    }
   ],
   "metadata": {}
  },
  {
   "cell_type": "markdown",
   "source": [
    "## Exercise 7\n",
    "We have a `p` stack of plates, either green ('verte') or white ('blanche'), each identified by a number. We represent one plate by a tuple `(color, number)`.\n",
    "Write a function `ranger` which sorts the stack of plates by placing green plates above white ones, without altering the order of their numbers."
   ],
   "metadata": {}
  },
  {
   "cell_type": "code",
   "execution_count": 24,
   "source": [
    "assiettes = Pile()\n",
    "assiettes.empile(('verte', 1))\n",
    "assiettes.empile(('blanche', 4))\n",
    "assiettes.empile(('blanche', 3))\n",
    "assiettes.empile(('blanche', 9))\n",
    "assiettes.empile(('verte', 2))\n",
    "assiettes.empile(('verte', 8))\n",
    "\n",
    "def ranger(p):\n",
    "\tvertes = Pile()\n",
    "\tblanches = Pile()\n",
    "\twhile not p.est_vide():\n",
    "\t\ta = p.depile()\n",
    "\t\t(vertes if a[0] == 'verte' else blanches).empile(a)\n",
    "\twhile not blanches.est_vide():\n",
    "\t\tp.empile(blanches.depile())\n",
    "\twhile not vertes.est_vide():\n",
    "\t\tp.empile(vertes.depile())\n",
    "\n",
    "print('Before sort \\n' + str(assiettes))\n",
    "ranger(assiettes)\n",
    "print('After sort \\n' + str(assiettes))"
   ],
   "outputs": [
    {
     "output_type": "stream",
     "name": "stdout",
     "text": [
      "Before sort \n",
      "------------------\n",
      "|  ('verte', 8)  |\n",
      "|  ('verte', 2)  |\n",
      "| ('blanche', 9) |\n",
      "| ('blanche', 3) |\n",
      "| ('blanche', 4) |\n",
      "|  ('verte', 1)  |\n",
      "------------------\n",
      "After sort \n",
      "------------------\n",
      "|  ('verte', 8)  |\n",
      "|  ('verte', 2)  |\n",
      "|  ('verte', 1)  |\n",
      "| ('blanche', 9) |\n",
      "| ('blanche', 3) |\n",
      "| ('blanche', 4) |\n",
      "------------------\n"
     ]
    }
   ],
   "metadata": {}
  },
  {
   "cell_type": "code",
   "execution_count": null,
   "source": [],
   "outputs": [],
   "metadata": {}
  }
 ],
 "metadata": {
  "orig_nbformat": 4,
  "language_info": {
   "name": "python",
   "version": "3.9.6",
   "mimetype": "text/x-python",
   "codemirror_mode": {
    "name": "ipython",
    "version": 3
   },
   "pygments_lexer": "ipython3",
   "nbconvert_exporter": "python",
   "file_extension": ".py"
  },
  "kernelspec": {
   "name": "python3",
   "display_name": "Python 3.9.6 64-bit"
  },
  "interpreter": {
   "hash": "98664a8c39c8f2b8b6bab828a93fc29cea6fbb9d8d01c7544d27b7d28323b637"
  }
 },
 "nbformat": 4,
 "nbformat_minor": 2
}